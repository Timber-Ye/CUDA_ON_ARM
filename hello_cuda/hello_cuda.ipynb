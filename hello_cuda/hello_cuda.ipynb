{
 "cells": [
  {
   "cell_type": "markdown",
   "id": "36d548b3",
   "metadata": {},
   "source": [
    "# CUDA编程模型---初识CUDA"
   ]
  },
  {
   "cell_type": "markdown",
   "id": "5011f398",
   "metadata": {},
   "source": [
    "### 本次实验将介绍如何：\n",
    "1. 编写第一个Cuda程序\n",
    "2. 利用NVCC进行编译\n",
    "3. 编写Makefile文件\n",
    "4. 利用nvprof查看程序性能"
   ]
  },
  {
   "cell_type": "markdown",
   "id": "d5f363b6",
   "metadata": {},
   "source": [
    "----\n",
    "## 1.编写第一个Cuda程序\n",
    "- 关键词：\"\\_\\_global\\_\\_\" ,  <<<...>>>  ,  .cu\n"
   ]
  },
  {
   "cell_type": "markdown",
   "id": "7795cefa",
   "metadata": {},
   "source": [
    "在当前的目录下创建一个名为hello_cuda.cu的文件，编写第一个Cuda程序：\n",
    "- 当我们编写一个hello_word程序的时候，我们通常会这样写："
   ]
  },
  {
   "cell_type": "markdown",
   "id": "8b6dae83",
   "metadata": {},
   "source": [
    "    #include <stdio.h>\n",
    "\n",
    "    void hello_from_cpu()\n",
    "    {\n",
    "        printf(\"Hello World from the CPU!\\n\");\n",
    "    }\n",
    "\n",
    "    int main(void)\n",
    "    {\n",
    "        hello_from_cpu();\n",
    "        return 0;\n",
    "    }"
   ]
  },
  {
   "cell_type": "markdown",
   "id": "4b2f5c62",
   "metadata": {},
   "source": [
    "- 如果我们要把它改成调用GPU的时候，我们需要在void hello_from_cpu()之前加入 \\_\\_global\\_\\_标识符，并且在调用这个函数的时候添加<<<...>>>来设定执行设置\n",
    "- 在当前的目录下创建一个名为[hello_cuda.cu](hello_cuda.cu)的文件，更改上述程序，将它改为在GPU上执行的程序，如果遇到麻烦，请参考[hello_cuda02.cu](hello_cuda02.cu)"
   ]
  },
  {
   "cell_type": "markdown",
   "id": "7e3c9a15",
   "metadata": {},
   "source": [
    "----\n",
    "## 2.编写完成之后，我们要开始编译并执行程序，在这里我们可以利用nvcc进行编译，指令如下："
   ]
  },
  {
   "cell_type": "code",
   "execution_count": null,
   "id": "06e03708",
   "metadata": {},
   "outputs": [],
   "source": [
    "!/usr/local/cuda/bin/nvcc -arch=compute_72 -code=sm_72 hello_cuda.cu -o hello_cuda -run"
   ]
  },
  {
   "cell_type": "markdown",
   "id": "66979baa",
   "metadata": {},
   "source": [
    "----\n",
    "## 3.这里我们也可以利用编写Makefile的方式来进行编译，一个简单的例子可以参考[Makefile](Makefile)"
   ]
  },
  {
   "cell_type": "code",
   "execution_count": null,
   "id": "ac44192f",
   "metadata": {},
   "outputs": [],
   "source": [
    "!make"
   ]
  },
  {
   "cell_type": "markdown",
   "id": "2c6fe786",
   "metadata": {},
   "source": [
    "然后我们就可以得到一个名为hello_cuda.exe的程序，我们开始执行一下"
   ]
  },
  {
   "cell_type": "code",
   "execution_count": null,
   "id": "1398488b",
   "metadata": {},
   "outputs": [],
   "source": [
    "!./hello_cuda"
   ]
  },
  {
   "cell_type": "markdown",
   "id": "b7f32413",
   "metadata": {},
   "source": [
    "接下来我们尝试多个文件协同编译, 修改[Makefile](Makefile)文件:\n",
    "1. 编译hello_from_gpu.cu文件生成hello_from_gpu.o\n",
    "2. 编译hello_cuda02-test.cu和上一步生成的hello_from_gpu.o, 生成./hello_cuda_multi_file\n",
    "\n",
    "如果遇到麻烦, 请参考[Makefile_Multi_file](Makefile_Multi_file)"
   ]
  },
  {
   "cell_type": "code",
   "execution_count": null,
   "id": "32cc71f3",
   "metadata": {},
   "outputs": [],
   "source": [
    "!make -f Makefile_Multi_file"
   ]
  },
  {
   "cell_type": "code",
   "execution_count": null,
   "id": "e6ff6c34",
   "metadata": {},
   "outputs": [],
   "source": [
    "!./hello_cuda_multi_file"
   ]
  },
  {
   "cell_type": "code",
   "execution_count": null,
   "id": "42da5f74",
   "metadata": {},
   "outputs": [],
   "source": [
    "!make -f Makefile_Multi_file clean"
   ]
  },
  {
   "cell_type": "markdown",
   "id": "535307bb",
   "metadata": {},
   "source": [
    "这时，您已经完成了第一个Cuda程序，接下来修改<<<...>>>里面的信息，查看显示效果，如果遇到麻烦，请参考[hello_cuda03.cu](hello_cuda03.cu)"
   ]
  },
  {
   "cell_type": "markdown",
   "id": "a92ce19f",
   "metadata": {},
   "source": [
    "----\n",
    "## 4.利用nvprof进行查看程序性能"
   ]
  },
  {
   "cell_type": "code",
   "execution_count": null,
   "id": "5a6d86eb",
   "metadata": {},
   "outputs": [],
   "source": [
    "!sudo /usr/local/cuda/bin/nvprof  ./hello_cuda"
   ]
  },
  {
   "cell_type": "markdown",
   "id": "3b39f6d0",
   "metadata": {},
   "source": [
    "- Profiling result：是GPU（kernel函数）上运行的时间\n",
    "- API calls：是在cpu上测量的程序调用API的时间"
   ]
  },
  {
   "cell_type": "markdown",
   "id": "d94ac5a9",
   "metadata": {},
   "source": [
    "课后作业：\n",
    "1. 利用Makefile规则，尝试编写批量编译工具，比如：同时编译5个cuda程序。\n",
    "2. 利用Makefile规则，尝试加入链接库，比如：加入cuBLAS库编译cuda程序。\n",
    "3. 阅读Cuda sample code，尝试编写程序得到当前GPU的属性参数等。\n",
    "4. 阅读[nvprof](https://docs.nvidia.com/cuda/profiler-users-guide/index.html#nvprof-overview) 说明文档，了解更多nvprof的使用方法，为后续课程中使用做"
   ]
  }
 ],
 "metadata": {
  "kernelspec": {
   "display_name": "Python 3",
   "language": "python",
   "name": "python3"
  },
  "language_info": {
   "codemirror_mode": {
    "name": "ipython",
    "version": 3
   },
   "file_extension": ".py",
   "mimetype": "text/x-python",
   "name": "python",
   "nbconvert_exporter": "python",
   "pygments_lexer": "ipython3",
   "version": "3.6.9"
  }
 },
 "nbformat": 4,
 "nbformat_minor": 5
}
